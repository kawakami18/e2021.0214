{
  "nbformat": 4,
  "nbformat_minor": 0,
  "metadata": {
    "colab": {
      "name": "機械学習.ipynb",
      "provenance": [],
      "collapsed_sections": [],
      "toc_visible": true,
      "authorship_tag": "ABX9TyMJ3K9QJ+glthovv4G1YrbR",
      "include_colab_link": true
    },
    "kernelspec": {
      "name": "python3",
      "display_name": "Python 3"
    }
  },
  "cells": [
    {
      "cell_type": "markdown",
      "metadata": {
        "id": "view-in-github",
        "colab_type": "text"
      },
      "source": [
        "<a href=\"https://colab.research.google.com/github/kawakami18/e2021.0214/blob/main/%E6%A9%9F%E6%A2%B0%E5%AD%A6%E7%BF%92.ipynb\" target=\"_parent\"><img src=\"https://colab.research.google.com/assets/colab-badge.svg\" alt=\"Open In Colab\"/></a>"
      ]
    },
    {
      "cell_type": "markdown",
      "metadata": {
        "id": "stVjZJuRCmML"
      },
      "source": [
        "# 機械学習"
      ]
    },
    {
      "cell_type": "markdown",
      "metadata": {
        "id": "nsVjz4FxErmP"
      },
      "source": [
        "---"
      ]
    },
    {
      "cell_type": "markdown",
      "metadata": {
        "id": "qiUrKRVz5xEn"
      },
      "source": [
        "##線形回帰モデル"
      ]
    },
    {
      "cell_type": "markdown",
      "metadata": {
        "id": "UTvZYDZpCpSV"
      },
      "source": [
        "ある入力から出力を予測することを回帰問題という。その回帰問題を解くための学習モデルが線形回帰モデル。目的は与えられたデータに適合するような直線を描く関数を見つけること。モデルに与えたデータと見つけ出された直線を描く関数の差のことを誤差と呼ぶ。（全てのデータが直線を描く関数からの誤差を求め、その誤差を2乗したものが平均二乗誤差。）その後に、学習データの平均二乗誤差を最小とするパラメータを探索するために、その勾配が0になる点を求める。（最小二乗法）\n",
        "### 二次元の直線の方程式\n",
        "$$\n",
        "y = Ax + B\n",
        "$$\n",
        "### 三次元の直線の方程式\n",
        "$$\n",
        "Z = A·x + B·y + C\n",
        "$$\n",
        "### n次元空間における超平面の方程式\n",
        "$$\n",
        "\\begin{align}\n",
        "y &= a_0 + a_1·x_1 + a_2·x_2 + ··· + a_{n-1}·x_{n-1} \\\\\n",
        "&= a_0 + \\sum_{i=1}^{n-1}a_i·x_i \\\\\n",
        "&= \\sum_{i=0}^{n-1}a_i·x_i\\qquad ,where\\qquad x_0\\equiv 1 \\\\\n",
        "ベクトル表記に変換 \\qquad\n",
        "&= \\vec{a}^{\\mathrm{T}}·\\vec{x}\\qquad ,where\\qquad \n",
        "    \\vec{a}= \\left(\n",
        "    \\begin{array}{c}\n",
        "    a_0 \\\\\n",
        "    a_1 \\\\\n",
        "    \\vdots \\\\\n",
        "    a_{n-1}\n",
        "    \\end{array}\n",
        "    \\right) \\qquad (n次元ベクトル)\n",
        "\\\\\n",
        "\\vec{a}^{\\mathrm{T}} &= (a_0 \\ a_1 \\dots a_{n-1})\n",
        "\\\\\n",
        "\\\\    \n",
        "    \\vec{x}&= \\left(\n",
        "    \\begin{array}{c}\n",
        "    x_0 \\\\\n",
        "    x_1 \\\\\n",
        "    \\vdots \\\\\n",
        "    x_{n-1}\n",
        "    \\end{array}\n",
        "    \\right) \\ (n次元ベクトル)\n",
        "\\\\\n",
        "ベクトル計算 \\qquad\n",
        "(a_0 \\ a_1 \\dots a_{n-1} )\n",
        "\\left(\n",
        "    \\begin{array}{c}\n",
        "    x_0 \\\\\n",
        "    x_1 \\\\\n",
        "    \\vdots \\\\\n",
        "    x_{n-1}\n",
        "    \\end{array}\n",
        "    \\right)   \n",
        "\\end{align}\n",
        "$$\n",
        "\n",
        "### 線形結合 (入力とパラメータの内積)\n",
        "\n",
        "・入力ベクトル${X}$と未知のパラメータ${W}$の各要素を掛け算し足し合わせる。\\\n",
        "・入力ベクトル${X}$との線型結合に加え、切片${w{_0}}$も足し合わせる。\\\n",
        "・入力のベクトル${X}$が多次元でも出力は1次元(スカラ)となる。\\\n",
        "・慣例として予測値にはハット(^)を付ける。(正解値と異なるため)\\\n",
        "$$\n",
        "\\hat{y}=w^TX + w_0 = \\sum_{j=1}^{m}w_jx_j + w_0\n",
        "$$\n",
        "### モデルのパラメータ\n",
        "・未知であるパラメータを最小二乗法により推定する。\n",
        "\n",
        "### 連立方程式を行列表現に変換する\n",
        "連立方程式\n",
        "$$\n",
        "y_1 = w_0 + w_1·x_1 + \\epsilon_1 \\\\\n",
        "y_2 = w_0 + w_1·x_2 + \\epsilon_2 \\\\\n",
        "\\vdots \\\\\n",
        "y_n = w_0 + w_1·x_n + \\epsilon_n \\\\\n",
        "$$\n",
        "\n",
        "行列表現 ($\\epsilon$は無視する)\n",
        "$$\n",
        "\\begin{pmatrix}\n",
        "y_1 \\\\\n",
        "y_2 \\\\\n",
        "\\vdots \\\\\n",
        "y_n\n",
        "\\end{pmatrix}\n",
        "= \\begin{pmatrix}\n",
        "1 & x_1 \\\\\n",
        "1 & x_2 \\\\\n",
        "\\vdots & \\vdots \\\\\n",
        "1 & x_n\n",
        "\\end{pmatrix}\n",
        "\\begin{pmatrix}\n",
        "w_0 \\\\\n",
        "w_1\n",
        "\\end{pmatrix}\n",
        "$$"
      ]
    },
    {
      "cell_type": "markdown",
      "metadata": {
        "id": "1O5i6tnqo8Xr"
      },
      "source": [
        ""
      ]
    },
    {
      "cell_type": "markdown",
      "metadata": {
        "id": "fB3KplElWiaz"
      },
      "source": [
        "### numpyで回帰分析をする"
      ]
    },
    {
      "cell_type": "code",
      "metadata": {
        "id": "gN-y5YsvWuns"
      },
      "source": [
        "%matplotlib inline\r\n",
        "import numpy as np\r\n",
        "import matplotlib.pyplot as plt"
      ],
      "execution_count": null,
      "outputs": []
    },
    {
      "cell_type": "markdown",
      "metadata": {
        "id": "cc0RW1vtXSvM"
      },
      "source": [
        "### 単回帰分析\r\n",
        "1つの目的変数を1つの説明変数で予測する"
      ]
    },
    {
      "cell_type": "code",
      "metadata": {
        "id": "84TpEuQsXEXZ"
      },
      "source": [
        "# 訓練データ生成\r\n",
        "n_sample = 100\r\n",
        "var = .2\r\n",
        "\r\n",
        "def linear_func(x):\r\n",
        "    return 2 * x + 5\r\n",
        "\r\n",
        "def add_noise(y_true, var):\r\n",
        "    return y_true + np.random.normal(scale=var, size=y_true.shape)\r\n",
        "\r\n",
        "def plt_result(xs_train, ys_true, ys_train):\r\n",
        "    plt.scatter(xs_train, ys_train, facecolor=\"none\", edgecolor=\"b\", s=50, label=\"training data\")\r\n",
        "    plt.plot(xs_train, ys_true, label=\"$2 x + 5$\")\r\n",
        "    plt.legend()        "
      ],
      "execution_count": null,
      "outputs": []
    },
    {
      "cell_type": "code",
      "metadata": {
        "colab": {
          "base_uri": "https://localhost:8080/",
          "height": 317
        },
        "id": "MuKJDjYOZ-Ip",
        "outputId": "3cee4526-026f-433c-88fe-8c0598724f6a"
      },
      "source": [
        "# データの作成\r\n",
        "xs = np.linspace(0, 1, n_sample)\r\n",
        "ys_true = linear_func(xs)\r\n",
        "ys = add_noise(ys_true, var)\r\n",
        "\r\n",
        "print(\"xs: {}\".format(xs.shape))\r\n",
        "print(\"ys_ture: {}\".format(ys_true.shape))\r\n",
        "print(\"ys: {}\".format(ys.shape))\r\n",
        "\r\n",
        "# 結果の描画\r\n",
        "plt_result(xs, ys_true, ys)"
      ],
      "execution_count": null,
      "outputs": [
        {
          "output_type": "stream",
          "text": [
            "xs: (100,)\n",
            "ys_ture: (100,)\n",
            "ys: (100,)\n"
          ],
          "name": "stdout"
        },
        {
          "output_type": "display_data",
          "data": {
            "image/png": "[encoded data removed]",
            "text/plain": [
              "<Figure size 432x288 with 1 Axes>"
            ]
          },
          "metadata": {
            "tags": [],
            "needs_background": "light"
          }
        }
      ]
    },
    {
      "cell_type": "code",
      "metadata": {
        "colab": {
          "base_uri": "https://localhost:8080/"
        },
        "id": "Cy1av6COcEwW",
        "outputId": "cfa3b0ac-97f3-4a74-e4e7-d75fd7965058"
      },
      "source": [
        "# numpyで線形回帰実装\r\n",
        "def train(xs, ys):\r\n",
        "    cov = np.cov(xs, ys, ddof=0)\r\n",
        "    a = cov[0, 1] / cov[0, 0]\r\n",
        "    b = np.mean(ys) - a * np.mean(xs)\r\n",
        "    return cov, a, b\r\n",
        "\r\n",
        "cov, a, b = train(xs, ys)\r\n",
        "print(\"cov: {}\".format(cov))\r\n",
        "print(\"coef: {}\".format(a))\r\n",
        "print(\"intercept: {}\".format(b))\r\n"
      ],
      "execution_count": null,
      "outputs": [
        {
          "output_type": "stream",
          "text": [
            "cov: [[0.08501684 0.17045366]\n",
            " [0.17045366 0.36807449]]\n",
            "coef: 2.0049401372562645\n",
            "intercept: 5.029069157907956\n"
          ],
          "name": "stdout"
        }
      ]
    },
    {
      "cell_type": "code",
      "metadata": {
        "colab": {
          "base_uri": "https://localhost:8080/"
        },
        "id": "F6mUp-nAfOlR",
        "outputId": "b67cb1b8-6f94-45ae-b382-83aa5b6a199c"
      },
      "source": [
        "# skl実装の回帰\r\n",
        "from sklearn.linear_model import LinearRegression\r\n",
        "model = LinearRegression()\r\n",
        "reg = model.fit(xs.reshape(-1, 1), ys.reshape(-1, 1))\r\n",
        "\r\n",
        "print(\"coef_: {}\".format(reg.coef_))\r\n",
        "print(\"intercept_: {}\".format(reg.intercept_))"
      ],
      "execution_count": null,
      "outputs": [
        {
          "output_type": "stream",
          "text": [
            "coef_: [[2.00494014]]\n",
            "intercept_: [5.02906916]\n"
          ],
          "name": "stdout"
        }
      ]
    },
    {
      "cell_type": "code",
      "metadata": {
        "colab": {
          "base_uri": "https://localhost:8080/",
          "height": 265
        },
        "id": "zQMNb_bphkh5",
        "outputId": "0458e8d4-a4a8-4011-b507-452f50791995"
      },
      "source": [
        "# 予測\r\n",
        "xs_new = np.linspace(0, 1, n_sample)\r\n",
        "ys_pred = a * xs_new + b\r\n",
        "\r\n",
        "plt.scatter(xs, ys, facecolor=\"none\", edgecolor=\"b\", s=50, label=\"training data\")\r\n",
        "plt.plot(xs_new, ys_ture, label=\"$2 x + 5$\")\r\n",
        "plt.plot(xs_new, ys_pred, label=\"prediction (a={:.2}, b={:.2})\".format(a, b))\r\n",
        "plt.legend()\r\n",
        "plt.show()"
      ],
      "execution_count": null,
      "outputs": [
        {
          "output_type": "display_data",
          "data": {
            "image/png": "[encoded data removed]",
            "text/plain": [
              "<Figure size 432x288 with 1 Axes>"
            ]
          },
          "metadata": {
            "tags": [],
            "needs_background": "light"
          }
        }
      ]
    },
    {
      "cell_type": "markdown",
      "metadata": {
        "id": "jzxV1fenkNFB"
      },
      "source": [
        "### 多項式回帰"
      ]
    },
    {
      "cell_type": "code",
      "metadata": {
        "id": "dsIPk0Lpi46B"
      },
      "source": [
        "# 訓練データ生成\r\n",
        "n_sample = 10\r\n",
        "var = .25\r\n",
        "\r\n",
        "def sin_func(x):\r\n",
        "    return np.sin(2 * np.pi * x)\r\n",
        "\r\n",
        "def add_noise(y_true, var):\r\n",
        "    return y_true + np.random.normal(scale=var, size=y_true.shape)\r\n",
        "\r\n",
        "def plt_result(xs, ys_true, ys):\r\n",
        "    plt.scatter(xs, ys, facecolor=\"none\", edgecolor=\"b\", s=50, label=\"training data\")\r\n",
        "    plt.plot(xs, ys_true, label=\"$\\sin(2\\pi x)$\")\r\n",
        "    plt.legend()        "
      ],
      "execution_count": null,
      "outputs": []
    },
    {
      "cell_type": "code",
      "metadata": {
        "colab": {
          "base_uri": "https://localhost:8080/",
          "height": 317
        },
        "id": "2vqC5oS6mgeA",
        "outputId": "829152b2-6511-4115-febb-696254b7fca3"
      },
      "source": [
        "# データの生成\r\n",
        "xs = np.linspace(0, 1, n_sample)\r\n",
        "ys_true = sin_func(xs)\r\n",
        "ys = add_noise(ys_true, var)\r\n",
        "\r\n",
        "print(\"xs: {}\".format(xs.shape))\r\n",
        "print(\"ys_true: {}\".format(ys_true.shape))\r\n",
        "print(\"ys: {}\".format(ys.shape))\r\n",
        "\r\n",
        "# 結果の描画\r\n",
        "plt_result(xs, ys_true, ys)"
      ],
      "execution_count": null,
      "outputs": [
        {
          "output_type": "stream",
          "text": [
            "xs: (10,)\n",
            "ys_true: (10,)\n",
            "ys: (10,)\n"
          ],
          "name": "stdout"
        },
        {
          "output_type": "display_data",
          "data": {
            "image/png": "[encoded data removed]",
            "text/plain": [
              "<Figure size 432x288 with 1 Axes>"
            ]
          },
          "metadata": {
            "tags": [],
            "needs_background": "light"
          }
        }
      ]
    },
    {
      "cell_type": "code",
      "metadata": {
        "id": "6bbdwabOnm5F"
      },
      "source": [
        "# 学習\r\n",
        "def polynomial_features(xs, degree=3):\r\n",
        "    \"\"\"多項式特徴ベクトルに変換\r\n",
        "    X = [[1, x1, x1^2, x1^3],\r\n",
        "         [1, x2, x2^2, x2^3],\r\n",
        "         ...\r\n",
        "         [1, xn, xn^2, xn^3]]\"\"\"\r\n",
        "    X = np.ones((len(xs), degree+1))\r\n",
        "    X_t = X.T #(100, 4)\r\n",
        "    for i in range(1, degree+1):\r\n",
        "        X_t[i] = X_t[i-1] * xs\r\n",
        "    return X_t.T             "
      ],
      "execution_count": null,
      "outputs": []
    },
    {
      "cell_type": "code",
      "metadata": {
        "id": "sWPk394BrU0E"
      },
      "source": [
        "Phi = polynomial_features(xs)\r\n",
        "Phi_inv = np.dot(np.linalg.inv(np.dot(Phi.T, Phi)), Phi.T)\r\n",
        "w = np.dot(Phi_inv, ys)"
      ],
      "execution_count": null,
      "outputs": []
    },
    {
      "cell_type": "code",
      "metadata": {
        "id": "R3x8aZtnr2sq"
      },
      "source": [
        "# 予測\r\n",
        "Phi_test = polynomial_features(xs)\r\n",
        "ys_pred = np.dot(Phi_test, w)"
      ],
      "execution_count": null,
      "outputs": []
    },
    {
      "cell_type": "code",
      "metadata": {
        "colab": {
          "base_uri": "https://localhost:8080/",
          "height": 265
        },
        "id": "H2axUu0lsQVE",
        "outputId": "06cd0ea1-a10e-423a-8ae3-4ed8ec4141db"
      },
      "source": [
        "plt.scatter(xs, ys, facecolor=\"none\", edgecolor=\"b\", s=50, label=\"training data\")\r\n",
        "plt.plot(xs, ys_true, label=\"$\\sin(2\\pi x)$\")\r\n",
        "plt.plot(xs, ys_pred, label=\"prediction\")\r\n",
        "# for i in range(0, 4):\r\n",
        "#     plt.plot(xs, Phi[:, i], label=\"basis\")\r\n",
        "plt.legend()\r\n",
        "plt.show()"
      ],
      "execution_count": null,
      "outputs": [
        {
          "output_type": "display_data",
          "data": {
            "image/png": "[encoded data removed]",
            "text/plain": [
              "<Figure size 432x288 with 1 Axes>"
            ]
          },
          "metadata": {
            "tags": [],
            "needs_background": "light"
          }
        }
      ]
    },
    {
      "cell_type": "markdown",
      "metadata": {
        "id": "qnQhb-N9vTMV"
      },
      "source": [
        "### 重回帰分析"
      ]
    },
    {
      "cell_type": "code",
      "metadata": {
        "colab": {
          "base_uri": "https://localhost:8080/"
        },
        "id": "B2JhScf8tbnd",
        "outputId": "a523e1a5-4931-4a53-c811-284d6499927b"
      },
      "source": [
        "# 訓練データ生成(3次元入力)\r\n",
        "np.random.random((10, 3))"
      ],
      "execution_count": null,
      "outputs": [
        {
          "output_type": "execute_result",
          "data": {
            "text/plain": [
              "array([[0.69750615, 0.4135508 , 0.96926794],\n",
              "       [0.78918098, 0.60514458, 0.75262287],\n",
              "       [0.04884431, 0.15822534, 0.04580307],\n",
              "       [0.49886699, 0.06110619, 0.55227501],\n",
              "       [0.30728799, 0.6674662 , 0.91084836],\n",
              "       [0.39144236, 0.58792541, 0.40136614],\n",
              "       [0.19165313, 0.79690543, 0.6070552 ],\n",
              "       [0.42427567, 0.24210207, 0.12919243],\n",
              "       [0.88528136, 0.33768896, 0.65687092],\n",
              "       [0.01297247, 0.99232025, 0.1407005 ]])"
            ]
          },
          "metadata": {
            "tags": []
          },
          "execution_count": 33
        }
      ]
    },
    {
      "cell_type": "code",
      "metadata": {
        "id": "hoVPUPiVv5iD"
      },
      "source": [
        "n_sample = 100\r\n",
        "var = .2\r\n",
        "\r\n",
        "def mul_linear_func(x):\r\n",
        "    ww = [1., 0.5, 2., 1.]\r\n",
        "    return ww[0] + ww[1] * x[:, 0] + ww[2] * x[:, 1] + ww[3] * x[:, 2]\r\n",
        "\r\n",
        "def add_noise(y_true, var):\r\n",
        "    return y_true + np.random.normal(scale=var, size=y_true.shape)\r\n",
        "\r\n",
        "def plt_result(xs_train, ys_true, ys_train):\r\n",
        "    plt.scatter(xs_train, ys_train, facecolor=\"none\", edgecolor=\"b\", s=50, label=\"training data\")\r\n",
        "    plt.plot(xs_train, ys_true, label=\"$2 x + 5$\")\r\n",
        "    plt.legend()        "
      ],
      "execution_count": null,
      "outputs": []
    },
    {
      "cell_type": "code",
      "metadata": {
        "id": "Bb_5-A17xyx5"
      },
      "source": [
        "x_dim = 3\r\n",
        "\r\n",
        "X = np.random.random((n_sample, x_dim))\r\n",
        "ys_true = mul_linear_func(X)\r\n",
        "ys = add_noise(ys_true, var)"
      ],
      "execution_count": null,
      "outputs": []
    },
    {
      "cell_type": "code",
      "metadata": {
        "id": "00GSy66VyPKR"
      },
      "source": [
        "# 学習\r\n",
        "def add_one(x):\r\n",
        "    return np.concatenate([np.ones(len(x))[:, None], x], axis=1)\r\n",
        "    \r\n",
        "    X_train = add_one(X)\r\n",
        "    # pinv = np.dot(np.linalg.inv(np.dot(X_train.T, X_train)), X_train.T)\r\n",
        "    # w = np.dot(pinv, y_train)"
      ],
      "execution_count": null,
      "outputs": []
    },
    {
      "cell_type": "code",
      "metadata": {
        "id": "UfEu5MvDzXgj"
      },
      "source": [
        "# 予測\r\n",
        "# パラメータ推定結果\r\n",
        "ww = [1., 0.5, 2., 1.]"
      ],
      "execution_count": null,
      "outputs": []
    },
    {
      "cell_type": "code",
      "metadata": {
        "colab": {
          "base_uri": "https://localhost:8080/"
        },
        "id": "Kk2lGfYxz1u9",
        "outputId": "488e9783-8d70-4da1-a79f-9e959ebf0390"
      },
      "source": [
        "for i in range(len(w)):\r\n",
        "    print(\"w{0}_true: {1:>5.2}    w{0}_estimated: {2:>5.2}\".format(i, ww[i], w[i]))"
      ],
      "execution_count": null,
      "outputs": [
        {
          "output_type": "stream",
          "text": [
            "w0_true:   1.0    w0_estimated: -0.19\n",
            "w1_true:   0.5    w1_estimated: 1.2e+01\n",
            "w2_true:   2.0    w2_estimated: -3.5e+01\n",
            "w3_true:   1.0    w3_estimated: 2.3e+01\n"
          ],
          "name": "stdout"
        }
      ]
    },
    {
      "cell_type": "markdown",
      "metadata": {
        "id": "qcagging801u"
      },
      "source": [
        "### 問４　線形回帰の説明\r\n",
        "\r\n",
        "線形回帰で残差平方和が最小となる係数の推定値を求めるために最小二乗法を使う。外れ値があると回帰線が外れ値の方に寄ってしまう。\r\n",
        "\r\n",
        "説明変数間の相関があることを多重共線性という。多重共線性が現れると回帰モデルで推定された回帰係数のばらつきが大きくなり、予測が不確かになり易い。\r\n",
        "\r\n",
        "モデルの表現力が高すぎると、データの些細な挙動までモデルが学習してしまう。要するに過学習を起こす。\r\n",
        "\r\n",
        "訓練データが少ないほど、訓練誤差にフィットし過ぎてしまい、未知のデータに対しては汎化誤差が大きくなってしまう。\r\n"
      ]
    },
    {
      "cell_type": "markdown",
      "metadata": {
        "id": "ZMV2AAKjDAhy"
      },
      "source": [
        "---"
      ]
    },
    {
      "cell_type": "markdown",
      "metadata": {
        "id": "eNQOyjoACyAP"
      },
      "source": [
        "## 非線形回帰モデル"
      ]
    },
    {
      "cell_type": "markdown",
      "metadata": {
        "id": "FZFBK8uMJvfN"
      },
      "source": [
        "単回帰や重回帰の特徴量$x$が非線形の関数を扱うモデルを非線形回帰モデルという。"
      ]
    },
    {
      "cell_type": "markdown",
      "metadata": {
        "id": "oa18uEj8QCPT"
      },
      "source": [
        "$\r\n",
        "単回帰　y = w_0 + w_1・x \\\\\r\n",
        "重回帰　y = w_0 + w_1・x_1 + w_2・x_2 + ・・・ + w_m・x_m \\\\\r\n",
        "非線形な回帰　y = w_0 + w_1・x + w_2 ・x^2 + w_3・x^3　\\\\\r\n",
        "　　　　　　　y = w_0 + w_1・\\sin x + w_2・\\cos x + w_3・\\log x  \\\\\r\n",
        "Idea:xの代わりに\\phi(x)を用いる。(xの関数は任意) \\\\\r\n",
        "xが\\phi(x)に代わるだけ。ただしパラメータwに関しては線形のまま。\\\\\r\n",
        "重みwが線形であることをlinear-in-parameterとよぶ。\\\\\r\n",
        "$\r\n",
        "$$equation　　　　y_i = w_0 + \\sum_{j=1}^m w_j\\phi  j(x_i) + \\varepsilon_i$$\r\n",
        "$\r\n",
        "\\phi  j(x_i)を基底関数という。基底関数は関数を表現するベースとして使う。\r\n",
        "よく使われる基底関数に多項式関数、ガウス型基底関数、スプライン/Bスプライン関数などがある。\\\\\r\n",
        "・多項式関数\\phi_i = x \\\\\r\n",
        "\\begin{align}\r\n",
        "\\hat{y}_i &= w_0 + w_1 ・\\phi_1(x_i) + w_2・\\phi_2(x_i) + ・・・w_m・\\phi_m(x_i) \\\\\r\n",
        "&= w_0 + w_1・x_i + w_2・x_i^2 + ・・・+ w_m・x_i^m\r\n",
        "\\end{align}\\\\\r\n",
        "求めるべきwについては線形である。\r\n",
        "\r\n",
        "\r\n",
        "$"
      ]
    },
    {
      "cell_type": "markdown",
      "metadata": {
        "id": "OyPqABlRpsqr"
      },
      "source": [
        "\r\n"
      ]
    },
    {
      "cell_type": "markdown",
      "metadata": {
        "id": "5IPLGvoBf7c6"
      },
      "source": [
        "### 非線形回帰モデル実装演習"
      ]
    },
    {
      "cell_type": "code",
      "metadata": {
        "id": "rCHJa2dr0pGS"
      },
      "source": [
        "# ライブラリインポート\r\n",
        "import numpy as np # 配列計算用ライブラリ\r\n",
        "import pandas as pd # データ計算用ライブラリ\r\n",
        "\r\n",
        "from sklearn.datasets import load_boston\r\n",
        "from sklearn.linear_model import LinearRegression\r\n",
        "from sklearn.model_selection import train_test_split\r\n",
        "from sklearn.preprocessing import PolynomialFeatures\r\n",
        "\r\n",
        "import matplotlib.pyplot as plt\r\n",
        "import seaborn as sns\r\n",
        "\r\n",
        "sns.set()\r\n",
        "sns.set_style(\"ticks\")\r\n"
      ],
      "execution_count": null,
      "outputs": []
    },
    {
      "cell_type": "code",
      "metadata": {
        "colab": {
          "base_uri": "https://localhost:8080/",
          "height": 197
        },
        "id": "g_4UkamVOJjj",
        "outputId": "056d59c8-381e-4309-c7da-24fbbd6c03c5"
      },
      "source": [
        "# データ読込み\r\n",
        "boston = load_boston()\r\n",
        "df = pd.DataFrame(boston.data, columns=boston.feature_names)\r\n",
        "df[\"MEDV\"] = boston.target\r\n",
        "df.head()"
      ],
      "execution_count": null,
      "outputs": [
        {
          "output_type": "execute_result",
          "data": {
            "text/html": [
              "<div>\n",
              "<style scoped>\n",
              "    .dataframe tbody tr th:only-of-type {\n",
              "        vertical-align: middle;\n",
              "    }\n",
              "\n",
              "    .dataframe tbody tr th {\n",
              "        vertical-align: top;\n",
              "    }\n",
              "\n",
              "    .dataframe thead th {\n",
              "        text-align: right;\n",
              "    }\n",
              "</style>\n",
              "<table border=\"1\" class=\"dataframe\">\n",
              "  <thead>\n",
              "    <tr style=\"text-align: right;\">\n",
              "      <th></th>\n",
              "      <th>CRIM</th>\n",
              "      <th>ZN</th>\n",
              "      <th>INDUS</th>\n",
              "      <th>CHAS</th>\n",
              "      <th>NOX</th>\n",
              "      <th>RM</th>\n",
              "      <th>AGE</th>\n",
              "      <th>DIS</th>\n",
              "      <th>RAD</th>\n",
              "      <th>TAX</th>\n",
              "      <th>PTRATIO</th>\n",
              "      <th>B</th>\n",
              "      <th>LSTAT</th>\n",
              "      <th>MEDV</th>\n",
              "    </tr>\n",
              "  </thead>\n",
              "  <tbody>\n",
              "    <tr>\n",
              "      <th>0</th>\n",
              "      <td>0.00632</td>\n",
              "      <td>18.0</td>\n",
              "      <td>2.31</td>\n",
              "      <td>0.0</td>\n",
              "      <td>0.538</td>\n",
              "      <td>6.575</td>\n",
              "      <td>65.2</td>\n",
              "      <td>4.0900</td>\n",
              "      <td>1.0</td>\n",
              "      <td>296.0</td>\n",
              "      <td>15.3</td>\n",
              "      <td>396.90</td>\n",
              "      <td>4.98</td>\n",
              "      <td>24.0</td>\n",
              "    </tr>\n",
              "    <tr>\n",
              "      <th>1</th>\n",
              "      <td>0.02731</td>\n",
              "      <td>0.0</td>\n",
              "      <td>7.07</td>\n",
              "      <td>0.0</td>\n",
              "      <td>0.469</td>\n",
              "      <td>6.421</td>\n",
              "      <td>78.9</td>\n",
              "      <td>4.9671</td>\n",
              "      <td>2.0</td>\n",
              "      <td>242.0</td>\n",
              "      <td>17.8</td>\n",
              "      <td>396.90</td>\n",
              "      <td>9.14</td>\n",
              "      <td>21.6</td>\n",
              "    </tr>\n",
              "    <tr>\n",
              "      <th>2</th>\n",
              "      <td>0.02729</td>\n",
              "      <td>0.0</td>\n",
              "      <td>7.07</td>\n",
              "      <td>0.0</td>\n",
              "      <td>0.469</td>\n",
              "      <td>7.185</td>\n",
              "      <td>61.1</td>\n",
              "      <td>4.9671</td>\n",
              "      <td>2.0</td>\n",
              "      <td>242.0</td>\n",
              "      <td>17.8</td>\n",
              "      <td>392.83</td>\n",
              "      <td>4.03</td>\n",
              "      <td>34.7</td>\n",
              "    </tr>\n",
              "    <tr>\n",
              "      <th>3</th>\n",
              "      <td>0.03237</td>\n",
              "      <td>0.0</td>\n",
              "      <td>2.18</td>\n",
              "      <td>0.0</td>\n",
              "      <td>0.458</td>\n",
              "      <td>6.998</td>\n",
              "      <td>45.8</td>\n",
              "      <td>6.0622</td>\n",
              "      <td>3.0</td>\n",
              "      <td>222.0</td>\n",
              "      <td>18.7</td>\n",
              "      <td>394.63</td>\n",
              "      <td>2.94</td>\n",
              "      <td>33.4</td>\n",
              "    </tr>\n",
              "    <tr>\n",
              "      <th>4</th>\n",
              "      <td>0.06905</td>\n",
              "      <td>0.0</td>\n",
              "      <td>2.18</td>\n",
              "      <td>0.0</td>\n",
              "      <td>0.458</td>\n",
              "      <td>7.147</td>\n",
              "      <td>54.2</td>\n",
              "      <td>6.0622</td>\n",
              "      <td>3.0</td>\n",
              "      <td>222.0</td>\n",
              "      <td>18.7</td>\n",
              "      <td>396.90</td>\n",
              "      <td>5.33</td>\n",
              "      <td>36.2</td>\n",
              "    </tr>\n",
              "  </tbody>\n",
              "</table>\n",
              "</div>"
            ],
            "text/plain": [
              "      CRIM    ZN  INDUS  CHAS    NOX  ...    TAX  PTRATIO       B  LSTAT  MEDV\n",
              "0  0.00632  18.0   2.31   0.0  0.538  ...  296.0     15.3  396.90   4.98  24.0\n",
              "1  0.02731   0.0   7.07   0.0  0.469  ...  242.0     17.8  396.90   9.14  21.6\n",
              "2  0.02729   0.0   7.07   0.0  0.469  ...  242.0     17.8  392.83   4.03  34.7\n",
              "3  0.03237   0.0   2.18   0.0  0.458  ...  222.0     18.7  394.63   2.94  33.4\n",
              "4  0.06905   0.0   2.18   0.0  0.458  ...  222.0     18.7  396.90   5.33  36.2\n",
              "\n",
              "[5 rows x 14 columns]"
            ]
          },
          "metadata": {
            "tags": []
          },
          "execution_count": 95
        }
      ]
    },
    {
      "cell_type": "code",
      "metadata": {
        "colab": {
          "base_uri": "https://localhost:8080/",
          "height": 394
        },
        "id": "K3FGqY7IPXky",
        "outputId": "085c488a-dbac-4ca8-9736-bbf392df012b"
      },
      "source": [
        "# 散布図\r\n",
        "plt.figure(figsize=(10, 6))\r\n",
        "sns.regplot(x=df.RM, y=df.MEDV, scatter_kws={\"alpha\": 0.7})\r\n",
        "plt.show()"
      ],
      "execution_count": null,
      "outputs": [
        {
          "output_type": "display_data",
          "data": {
            "image/png": "[encoded data removed]",
            "text/plain": [
              "<Figure size 720x432 with 1 Axes>"
            ]
          },
          "metadata": {
            "tags": []
          }
        }
      ]
    },
    {
      "cell_type": "code",
      "metadata": {
        "colab": {
          "base_uri": "https://localhost:8080/"
        },
        "id": "4I2joRnCQwHw",
        "outputId": "d73802e5-6484-4159-992a-a887c2c2afc0"
      },
      "source": [
        "# データ準備\r\n",
        "x = df[\"RM\"]\r\n",
        "X = np.array(x).reshape(-1, 1)\r\n",
        "y = df[\"MEDV\"]\r\n",
        "print(\"-\"*10 + \"特徴量とターゲットに分割\" + \"-\"*10)\r\n",
        "print(\"X:\", X.shape)\r\n",
        "print(\"y:\", y.shape)\r\n",
        "# 訓練用データとテスト用データに分割\r\n",
        "X_train, X_test, y_train, y_test = train_test_split(X, y, test_size=0.2, random_state=0)"
      ],
      "execution_count": null,
      "outputs": [
        {
          "output_type": "stream",
          "text": [
            "----------特徴量とターゲットに分割----------\n",
            "X: (506, 1)\n",
            "y: (506,)\n"
          ],
          "name": "stdout"
        }
      ]
    },
    {
      "cell_type": "code",
      "metadata": {
        "colab": {
          "base_uri": "https://localhost:8080/"
        },
        "id": "Jj-13wYfS7Ec",
        "outputId": "165e0d39-74fe-4f78-936a-4c4694d66c6b"
      },
      "source": [
        "# 非線形モデルの作成\r\n",
        "pf = PolynomialFeatures(degree=2, include_bias=False)# 二次元の特徴量を作成\r\n",
        "X_train_2 = pf.fit_transform(X_train)\r\n",
        "X_test_2 = pf.fit_transform(X_test)\r\n",
        "print(\"元のRM:\")\r\n",
        "print(X_train[:5])\r\n",
        "print(\"二乗したRM: \")\r\n",
        "print(X_train_2[:5])"
      ],
      "execution_count": null,
      "outputs": [
        {
          "output_type": "stream",
          "text": [
            "元のRM:\n",
            "[[6.951]\n",
            " [5.961]\n",
            " [6.897]\n",
            " [6.012]\n",
            " [5.304]]\n",
            "二乗したRM: \n",
            "[[ 6.951    48.316401]\n",
            " [ 5.961    35.533521]\n",
            " [ 6.897    47.568609]\n",
            " [ 6.012    36.144144]\n",
            " [ 5.304    28.132416]]\n"
          ],
          "name": "stdout"
        }
      ]
    },
    {
      "cell_type": "code",
      "metadata": {
        "colab": {
          "base_uri": "https://localhost:8080/"
        },
        "id": "Z6tB8S7MWagQ",
        "outputId": "2deb851a-415f-499a-a85c-aea624312a15"
      },
      "source": [
        "# モデル作成\r\n",
        "lm = LinearRegression()\r\n",
        "lm.fit(X_train_2, y_train)"
      ],
      "execution_count": null,
      "outputs": [
        {
          "output_type": "execute_result",
          "data": {
            "text/plain": [
              "LinearRegression(copy_X=True, fit_intercept=True, n_jobs=None, normalize=False)"
            ]
          },
          "metadata": {
            "tags": []
          },
          "execution_count": 99
        }
      ]
    },
    {
      "cell_type": "code",
      "metadata": {
        "colab": {
          "base_uri": "https://localhost:8080/"
        },
        "id": "qu_pwPVgX2kP",
        "outputId": "54332894-7038-4d00-e475-421e81adc3f1"
      },
      "source": [
        "# パラメタ表示\r\n",
        "print(\"バイアス\", lm.intercept_)\r\n",
        "print(\"重み\", lm.coef_)"
      ],
      "execution_count": null,
      "outputs": [
        {
          "output_type": "stream",
          "text": [
            "バイアス 68.20229885775143\n",
            "重み [-23.56509374   2.56037958]\n"
          ],
          "name": "stdout"
        }
      ]
    },
    {
      "cell_type": "code",
      "metadata": {
        "colab": {
          "base_uri": "https://localhost:8080/"
        },
        "id": "8AbmN7eeYeAk",
        "outputId": "e1f8cfcc-b690-4816-909b-c70385d81e04"
      },
      "source": [
        "# 非線形回帰モデル精度表示\r\n",
        "print(\"Train Score : {:.2f}\" .format(lm.score(X_train_2, y_train)))\r\n",
        "print(\"Test Score : {:.2f}\" .format(lm.score(X_test_2, y_test)))"
      ],
      "execution_count": null,
      "outputs": [
        {
          "output_type": "stream",
          "text": [
            "Train Score : 0.56\n",
            "Test Score : 0.51\n"
          ],
          "name": "stdout"
        }
      ]
    },
    {
      "cell_type": "code",
      "metadata": {
        "id": "OKQJWaqRZylJ"
      },
      "source": [
        "# モデル作成\r\n",
        "tmp = LinearRegression()\r\n",
        "tmp.fit(X_train, y_train)\r\n",
        "y_pred_tmp = tmp.predict(X_test)"
      ],
      "execution_count": null,
      "outputs": []
    },
    {
      "cell_type": "code",
      "metadata": {
        "colab": {
          "base_uri": "https://localhost:8080/"
        },
        "id": "VrmAxFJkaXdT",
        "outputId": "7951cf9b-062e-4fbe-95c3-967dbcc9ce70"
      },
      "source": [
        "# 単回帰モデル精度表示\r\n",
        "print(\"Train Score : {:.2f}\" .format(tmp.score(X_train, y_train)))\r\n",
        "print(\"Test Score : {:.2f}\" .format(tmp.score(X_test, y_test)))\r\n"
      ],
      "execution_count": null,
      "outputs": [
        {
          "output_type": "stream",
          "text": [
            "Train Score : 0.50\n",
            "Test Score : 0.42\n"
          ],
          "name": "stdout"
        }
      ]
    },
    {
      "cell_type": "code",
      "metadata": {
        "colab": {
          "base_uri": "https://localhost:8080/",
          "height": 451
        },
        "id": "gAZVO83RuZ3f",
        "outputId": "8f3e744e-d8b8-40ac-efbf-d08ebb8ff523"
      },
      "source": [
        "# 学習結果\r\n",
        "X_test_a = np.array([np.sort(X_test[:, 0])]).reshape(len(X_test), 1)\r\n",
        "X_test_2 = pf.fit_transform(X_test_a)\r\n",
        "y_pred = lm.predict(X_test_2)\r\n",
        "plt.figure(figsize=(10, 6))\r\n",
        "sns.scatterplot(X.reshape(len(X), ), y, alpha=0.7)\r\n",
        "sns.lineplot(x=X_test_a.reshape(len(X_test_a), ), y=y_pred, linewidth=2.5, label='poly')\r\n",
        "sns.lineplot(x=X_test.reshape(len(X_test), ), y=y_pred_tmp, linewidth=2.5, label='linear')\r\n",
        "plt.xlabel('RM')\r\n",
        "plt.ylabel('MEDV')\r\n",
        "plt.show()"
      ],
      "execution_count": null,
      "outputs": [
        {
          "output_type": "stream",
          "text": [
            "/usr/local/lib/python3.7/dist-packages/seaborn/_decorators.py:43: FutureWarning: Pass the following variables as keyword args: x, y. From version 0.12, the only valid positional argument will be `data`, and passing other arguments without an explicit keyword will result in an error or misinterpretation.\n",
            "  FutureWarning\n"
          ],
          "name": "stderr"
        },
        {
          "output_type": "display_data",
          "data": {
            "image/png": "[encoded data removed]",
            "text/plain": [
              "<Figure size 720x432 with 1 Axes>"
            ]
          },
          "metadata": {
            "tags": []
          }
        }
      ]
    },
    {
      "cell_type": "code",
      "metadata": {
        "colab": {
          "base_uri": "https://localhost:8080/"
        },
        "id": "12_a5uNSzIBH",
        "outputId": "6900e977-e9b3-454a-f262-272bdbc07fad"
      },
      "source": [
        "print(\"バイアス\", lm.intercept_)\r\n",
        "print(\"重み\", lm.coef_)"
      ],
      "execution_count": null,
      "outputs": [
        {
          "output_type": "stream",
          "text": [
            "バイアス 68.20229885775143\n",
            "重み [-23.56509374   2.56037958]\n"
          ],
          "name": "stdout"
        }
      ]
    },
    {
      "cell_type": "markdown",
      "metadata": {
        "id": "j2NFjMsafv2A"
      },
      "source": [
        "多項式関数の特徴\\\r\n",
        "・離れた点の推定に影響を受けやすい。\\\r\n",
        "・モデルの説明変数を増やすほどモデルの柔軟性は向上する。\\\r\n",
        "・説明変数を増やしすぎると過学習をするので適切な説明変数を使うことと最小限の説明変数を選択することが必要。（変数選択、オッカムの剃刀）\r\n",
        "・データ量を増やす、正則化するなどで過学習を抑える。\\\r\n",
        "\\\r\n",
        "ガウス型基底関数\\\r\n",
        "・データ点が近いほど情報の影響を強く受ける。離れるにしたがい情報の影響は弱まる。\\\r\n",
        "・データが十分に存在する場所は分散が小さくなり、データが少ない場所では分散が大きくなる。\\\r\n",
        "・線形回帰モデルを無限次元に拡張できる。\\\r\n",
        "・計算量が膨大になるのでカーネル行列の計算量を減らす工夫が必要。\r\n",
        "\r\n"
      ]
    },
    {
      "cell_type": "markdown",
      "metadata": {
        "id": "azjTYuryfITJ"
      },
      "source": [
        "---\r\n"
      ]
    },
    {
      "cell_type": "markdown",
      "metadata": {
        "id": "44w3SwN1fbsc"
      },
      "source": [
        "## ロジスティック回帰モデル"
      ]
    },
    {
      "cell_type": "markdown",
      "metadata": {
        "id": "yqToH8iH_Uow"
      },
      "source": [
        "ロジスティック回帰モデルは主に二値分類に使われるアルゴリズム。\\\r\n",
        "ラベルの値が二種類しかないような教師あり訓練データに適用される。\\\r\n",
        "\\\r\n",
        "目的変数 $$ x = (x_1, x_2, \\cdots ,x_m)^T \\in \\mathbb{R}^m $$\r\n",
        "\\\r\n",
        "目的変数 $$ y \\in \\{0, 1\\} $$\r\n",
        "\\\r\n",
        "教師データ $$ \\{(x_1, y_1);i=1,\\cdots,n\\}$$\r\n",
        "\\\r\n",
        "ラベル$y$が1になる確率 $$ P(Y = 1|X = x) $$\r\n",
        "\\\r\n",
        "ラベル$y$が0になる確率　$$ P(Y = 0|X = x) $$\r\n",
        "\\\r\n",
        "ロジスティック回帰の式 $$ P(Y = 1|X = x) = \\sigma(w_0 + \\sum_{j=1}^dx_jw_j)=\\sigma(w^T\\tilde{x}^T) $$\r\n",
        "\\\r\n",
        "シグモイド関数 $$ \\sigma(\\varepsilon) = \\frac{1}{1+e^{-\\varepsilon}} $$\r\n",
        "\\\r\n",
        "シグモイド関数を作用させることで入力された$x$が実数全体の値をとるのに対して出力の$y$では0から1の値につぶされる。\\\r\n",
        "\\\r\n",
        "シグモイド関数の性質\\\r\n",
        "・シグモイド関数の微分は、シグモイド関数自身で表現することが可能\r\n",
        "・尤度関数の微分を行う際にこの事実を利用すると計算が容易になる。\\\r\n",
        "\\\r\n",
        "シグモイド関数の微分\\\r\n",
        "$$ a(z) = \\frac{1}{1 + exp(-z)}=\\{1+exp(-z)\\}^{-1} $$\r\n",
        "\\\r\n",
        "$$ \\Longrightarrow \\frac{d\\sigma(z)}{dz} = -1\\{1+exp(-z)\\}^{-2}×exp(-z)×(-1) $$\r\n",
        "\\\r\n",
        "$$ \\Longrightarrow = \\frac{1}{1+exp(-z)}×\\frac{exp(-z)}{1+exp(-z)}$$\r\n",
        "\\\r\n",
        "$$ \\Longrightarrow = \\sigma(z)×(1-\\sigma(z)) $$\r\n",
        "\\\r\n",
        "＊シグモイド関数の微分はシグモイド関数で表せる\r\n",
        "\r\n",
        "\r\n",
        "\r\n",
        "\r\n"
      ]
    },
    {
      "cell_type": "markdown",
      "metadata": {
        "id": "zv2g3IDJlUO3"
      },
      "source": [
        "### numpyでロジスティック回帰の実装\r\n"
      ]
    },
    {
      "cell_type": "code",
      "metadata": {
        "id": "EGmhciyR1K_y"
      },
      "source": [
        "# ロジスティック回帰の実装\r\n",
        "%matplotlib inline\r\n",
        "import numpy as np\r\n",
        "import matplotlib.pyplot as plt"
      ],
      "execution_count": null,
      "outputs": []
    },
    {
      "cell_type": "code",
      "metadata": {
        "id": "aEfRI2zEk9o7"
      },
      "source": [
        "n_sample = 100\r\n",
        "harf_n_sample = 50\r\n",
        "var = .2\r\n",
        "\r\n",
        "def gen_data(n_sample, harf_n_sample):\r\n",
        "    x0 = np.random.normal(size=n_sample).reshape(-1, 2) - 1.\r\n",
        "    x1 = np.random.normal(size=n_sample).reshape(-1, 2) + 1.\r\n",
        "    x_train = np.concatenate([x0, x1])\r\n",
        "    y_train = np.concatenate([np.zeros(harf_n_sample), np.ones(harf_n_sample)]).astype(np.int)\r\n",
        "    return x_train, y_train\r\n",
        "\r\n",
        "def plt_data(x_train, y_train):\r\n",
        "    plt.scatter(x_train[:, 0], x_train[:, 1], c=y_train, facecolor=\"none\", edgecolor=\"b\", s=50, label=\"training data\")\r\n",
        "    plt.legend()    \r\n"
      ],
      "execution_count": null,
      "outputs": []
    },
    {
      "cell_type": "code",
      "metadata": {
        "colab": {
          "base_uri": "https://localhost:8080/",
          "height": 265
        },
        "id": "Ykbp26Kdoa6V",
        "outputId": "22959b27-81b9-4da3-d204-9cd747a53168"
      },
      "source": [
        "# データ作成\r\n",
        "x_train, y_train = gen_data(n_sample, harf_n_sample)\r\n",
        "# データ表示\r\n",
        "plt_data(x_train, y_train)"
      ],
      "execution_count": null,
      "outputs": [
        {
          "output_type": "display_data",
          "data": {
            "image/png": "[encoded data removed]",
            "text/plain": [
              "<Figure size 432x288 with 1 Axes>"
            ]
          },
          "metadata": {
            "tags": [],
            "needs_background": "light"
          }
        }
      ]
    },
    {
      "cell_type": "code",
      "metadata": {
        "id": "OnmUQ6R3q8Ib"
      },
      "source": [
        "def add_one(x):\r\n",
        "    return np.concatenate([np.ones(len(x))[:, None], x], axis=1)\r\n"
      ],
      "execution_count": null,
      "outputs": []
    },
    {
      "cell_type": "code",
      "metadata": {
        "id": "98al6DU5rbfO"
      },
      "source": [
        "def sigmoid(x):\r\n",
        "    return 1 / (1 + np.exp(-x))\r\n",
        "\r\n",
        "def sgd(X_train, max_iter, eta):\r\n",
        "    w = np.zeros(X_train.shape[1])\r\n",
        "    for _ in range(max_iter):\r\n",
        "        w_prev = np.copy(w)\r\n",
        "        sigma = sigmoid(np.dot(X_train, w))\r\n",
        "        grad = np.dot(X_train.T, (sigma - y_train))\r\n",
        "        w -= eta * grad\r\n",
        "        if np.allclose(w, w_prev):\r\n",
        "            return w\r\n",
        "    return w\r\n",
        "\r\n",
        "X_train = add_one(x_train)\r\n",
        "max_iter=100\r\n",
        "eta = 0.01\r\n",
        "w = sgd(X_train, max_iter, eta)                "
      ],
      "execution_count": null,
      "outputs": []
    },
    {
      "cell_type": "code",
      "metadata": {
        "id": "uc3MO7sbtHZX"
      },
      "source": [
        "xx0, xx1 = np.meshgrid(np.linspace(-5, 5, 100), np.linspace(-5, 5, 100))\r\n",
        "xx = np.array([xx0, xx1]).reshape(2, -1).T"
      ],
      "execution_count": null,
      "outputs": []
    },
    {
      "cell_type": "code",
      "metadata": {
        "id": "b8Pa5FvFtoc8"
      },
      "source": [
        "X_test = add_one(xx)\r\n",
        "proba = sigmoid(np.dot(X_test, w))\r\n",
        "y_pred = (proba > 0.5).astype(np.int)"
      ],
      "execution_count": null,
      "outputs": []
    },
    {
      "cell_type": "code",
      "metadata": {
        "colab": {
          "base_uri": "https://localhost:8080/",
          "height": 282
        },
        "id": "UxJ-lpHGt_q2",
        "outputId": "c7d215e6-1a6e-4ca7-e9f9-a2967ef70c4f"
      },
      "source": [
        "plt.scatter(x_train[:, 0], x_train[:, 1], c=y_train)\r\n",
        "plt.contourf(xx0, xx1, proba.reshape(100, 100), alpha=0.2, levels=np.linspace(0, 1, 3))"
      ],
      "execution_count": null,
      "outputs": [
        {
          "output_type": "execute_result",
          "data": {
            "text/plain": [
              "<matplotlib.contour.QuadContourSet at 0x7f099d220790>"
            ]
          },
          "metadata": {
            "tags": []
          },
          "execution_count": 14
        },
        {
          "output_type": "display_data",
          "data": {
            "image/png": "[encoded data removed]",
            "text/plain": [
              "<Figure size 432x288 with 1 Axes>"
            ]
          },
          "metadata": {
            "tags": [],
            "needs_background": "light"
          }
        }
      ]
    },
    {
      "cell_type": "code",
      "metadata": {
        "colab": {
          "base_uri": "https://localhost:8080/",
          "height": 282
        },
        "id": "hhy_Xhiru-J1",
        "outputId": "965461b6-ad72-4e88-9d25-d0d871a37f12"
      },
      "source": [
        "# numpy実装\r\n",
        "from sklearn.linear_model import LogisticRegression\r\n",
        "model=LogisticRegression(fit_intercept=True)\r\n",
        "model.fit(x_train, y_train)\r\n",
        "proba = model.predict_proba(xx)\r\n",
        "y_pred = (proba > 0.5).astype(np.int)\r\n",
        "plt.scatter(x_train[:, 0], x_train[:, 1], c=y_train)\r\n",
        "plt.contourf(xx0, xx1, proba[:, 0].reshape(100, 100), alpha=0.2, levels=np.linspace(0, 1, 3))"
      ],
      "execution_count": null,
      "outputs": [
        {
          "output_type": "execute_result",
          "data": {
            "text/plain": [
              "<matplotlib.contour.QuadContourSet at 0x7f0983054c90>"
            ]
          },
          "metadata": {
            "tags": []
          },
          "execution_count": 18
        },
        {
          "output_type": "display_data",
          "data": {
            "image/png": "[encoded data removed]",
            "text/plain": [
              "<Figure size 432x288 with 1 Axes>"
            ]
          },
          "metadata": {
            "tags": [],
            "needs_background": "light"
          }
        }
      ]
    },
    {
      "cell_type": "markdown",
      "metadata": {
        "id": "VYMvgMPZy9B5"
      },
      "source": [
        ""
      ]
    },
    {
      "cell_type": "markdown",
      "metadata": {
        "id": "IiGO9DfNyLBm"
      },
      "source": [
        "###演習問題"
      ]
    },
    {
      "cell_type": "markdown",
      "metadata": {
        "id": "SLCxfzdky-y0"
      },
      "source": [
        "ロジスティック回帰は（教師あり学習の分類）の1つであり、2値分類では、入力が一方のクラスに属する確率を出力するように学習する。ロジスティック回帰では学習の際、（尤度関数）の最大化を行う。\r\n"
      ]
    },
    {
      "cell_type": "code",
      "metadata": {
        "id": "Q-jjuDuKy5Wj"
      },
      "source": [
        ""
      ],
      "execution_count": null,
      "outputs": []
    },
    {
      "cell_type": "markdown",
      "metadata": {
        "id": "Mu8t9SETzdjX"
      },
      "source": [
        "---\r\n"
      ]
    },
    {
      "cell_type": "markdown",
      "metadata": {
        "id": "H-PxkXrZzjDU"
      },
      "source": [
        "##主成分分析"
      ]
    },
    {
      "cell_type": "markdown",
      "metadata": {
        "id": "S5dXW7H60zA5"
      },
      "source": [
        "主成分分析は2次元のデータを1次元のデータに圧縮できる。\\\r\n",
        "（多変量データの持つ構造をより小個数の指標に圧縮する。）\\\r\n",
        "\\\r\n",
        "学習データ\\\r\n",
        "$$ x_i = (x_{i1}, x_[i2], \\cdots, x_{im} )\\in \\mathbb{R}^m $$\r\n",
        "\\\r\n",
        "平均（ベクトル）\\\r\n",
        "$$ \\bar{x}= \\frac{1}{n}\\sum_{i=1}^n x_i$$\r\n",
        "\\\r\n",
        "データ行列\\\r\n",
        "$$ \\bar{X}=(x_1-\\bar{x},\\cdots,x_n-\\bar{x})^T \\in \\mathbb{R}^{n×m} $$\r\n",
        "\\\r\n",
        "共分散行列\\\r\n",
        "$$ \\sum=Var(\\bar{X})=\\frac{1}{n}\\bar{X}^T\\bar{X} $$\r\n",
        "\\\r\n",
        "線形変換後のベクトル　＊jは射影軸のインデックス\\\r\n",
        "$$ s_j =(s_{1j},\\cdots,s_{nj})^T=\\bar{X}a_j　　a_j\\in\\mathbb{R}^m $$\r\n",
        "\\\r\n",
        "係数ベクトルが変われば線形変換後の値が変化する。\\\r\n",
        "・情報の量を分散の大きさと捉える。\\\r\n",
        "・線形変換後の変数の分散が最大となる射影軸を探索する。"
      ]
    },
    {
      "cell_type": "markdown",
      "metadata": {
        "id": "X77iUMYG6r_D"
      },
      "source": [
        "###主成分分析実装演習\r\n"
      ]
    },
    {
      "cell_type": "code",
      "metadata": {
        "id": "jvXiJUcczf7Q"
      },
      "source": [
        "# numpyを使って主成分分析\r\n",
        "%matplotlib inline\r\n",
        "import numpy as np\r\n",
        "import matplotlib.pyplot as plt"
      ],
      "execution_count": null,
      "outputs": []
    },
    {
      "cell_type": "code",
      "metadata": {
        "id": "BeYUMuRj7jRJ"
      },
      "source": [
        "# 訓練データ生成\r\n",
        "n_sample = 100\r\n",
        "\r\n",
        "def gen_data(n_sample):\r\n",
        "    mean = [0, 0]\r\n",
        "    cov = [[2, 0.7], [0.7, 1]]\r\n",
        "    return np.random.multivariate_normal(mean, cov, n_sample)\r\n",
        "\r\n",
        "def plt_data(X):\r\n",
        "    plt.scatter(X[:, 0], X[:, 1])\r\n",
        "    plt.xlim(-5, 5)\r\n",
        "    plt.ylim(-5, 5)    "
      ],
      "execution_count": null,
      "outputs": []
    },
    {
      "cell_type": "code",
      "metadata": {
        "colab": {
          "base_uri": "https://localhost:8080/",
          "height": 265
        },
        "id": "EXSTQ-rG8lwR",
        "outputId": "0046ceed-5953-4331-ddaa-e2694a455076"
      },
      "source": [
        "X = gen_data(n_sample)\r\n",
        "plt_data(X)"
      ],
      "execution_count": null,
      "outputs": [
        {
          "output_type": "display_data",
          "data": {
            "image/png": "[encoded data removed]",
            "text/plain": [
              "<Figure size 432x288 with 1 Axes>"
            ]
          },
          "metadata": {
            "tags": [],
            "needs_background": "light"
          }
        }
      ]
    },
    {
      "cell_type": "code",
      "metadata": {
        "id": "pvfwtgb18yqH"
      },
      "source": [
        "#学習\r\n",
        "n_components=2\r\n",
        "\r\n",
        "def get_moments(X):\r\n",
        "    mean = X.mean(axis=0)\r\n",
        "    stan_cov = np.dot((X - mean).T, X - mean) / (len(X) - 1)\r\n",
        "    return mean, stan_cov\r\n",
        "\r\n",
        "def get_components(eigenvectors, n_components):\r\n",
        "#     W = eigenvectors[:, -n_components:]\r\n",
        "#     return W.T[::-1]\r\n",
        "    W = eigenvectors[:, ::-1][:, :n_components] \r\n",
        "    return W.T\r\n",
        "\r\n",
        "def plt_result(X, first, second):\r\n",
        "    plt.scatter(X[:, 0], X[:, 1])\r\n",
        "    plt.xlim(-5, 5)\r\n",
        "    plt.ylim(-5, 5)\r\n",
        "    # 第一主成分\r\n",
        "    plt.quiver(0, 0, first[0], first[1], width=0.01, scale=6, color='red')\r\n",
        "    # 第二主成分\r\n",
        "    plt.quiver(0, 0, second[0], second[1], width=0.01, scale=6, color='green')           "
      ],
      "execution_count": null,
      "outputs": []
    },
    {
      "cell_type": "code",
      "metadata": {
        "colab": {
          "base_uri": "https://localhost:8080/",
          "height": 265
        },
        "id": "Mnvg8IvN9W8m",
        "outputId": "fb43dabc-154b-4372-8a12-d21445172c3f"
      },
      "source": [
        "# 分散共分散行列を標準化\r\n",
        "meen, stan_cov = get_moments(X)\r\n",
        "# 固有値と固有ベクトルを計算\r\n",
        "eigenvalues, eigenvectors = np.linalg.eigh(stan_cov)\r\n",
        "components = get_components(eigenvectors, n_components)\r\n",
        "\r\n",
        "plt_result(X, eigenvectors[0, :], eigenvectors[1, :])"
      ],
      "execution_count": null,
      "outputs": [
        {
          "output_type": "display_data",
          "data": {
            "image/png": "[encoded data removed]",
            "text/plain": [
              "<Figure size 432x288 with 1 Axes>"
            ]
          },
          "metadata": {
            "tags": [],
            "needs_background": "light"
          }
        }
      ]
    },
    {
      "cell_type": "code",
      "metadata": {
        "id": "dbRAwdrdAK5q"
      },
      "source": [
        "# 変換（射影）\r\n",
        "def transform_by_pca(X, pca):\r\n",
        "    mean = X.mean(axis=0)\r\n",
        "    return np.dot(X-mean, components)"
      ],
      "execution_count": null,
      "outputs": []
    },
    {
      "cell_type": "code",
      "metadata": {
        "colab": {
          "base_uri": "https://localhost:8080/",
          "height": 282
        },
        "id": "rq9QkejqBY1K",
        "outputId": "eef95744-c9de-4ad4-f175-49c1b35749e6"
      },
      "source": [
        "Z = transform_by_pca(X, components.T)\r\n",
        "plt.scatter(Z[:, 0], Z[:, 1])\r\n",
        "plt.xlim(-5, 5)\r\n",
        "plt.ylim(-5, 5)"
      ],
      "execution_count": null,
      "outputs": [
        {
          "output_type": "execute_result",
          "data": {
            "text/plain": [
              "(-5.0, 5.0)"
            ]
          },
          "metadata": {
            "tags": []
          },
          "execution_count": 39
        },
        {
          "output_type": "display_data",
          "data": {
            "image/png": "[encoded data removed]",
            "text/plain": [
              "<Figure size 432x288 with 1 Axes>"
            ]
          },
          "metadata": {
            "tags": [],
            "needs_background": "light"
          }
        }
      ]
    },
    {
      "cell_type": "code",
      "metadata": {
        "id": "ojvhrFH_BvgZ"
      },
      "source": [
        "# 逆変換\r\n",
        "mean = X.mean(axis=0)\r\n",
        "X_ = np.dot(Z, components.T) + mean"
      ],
      "execution_count": null,
      "outputs": []
    },
    {
      "cell_type": "code",
      "metadata": {
        "colab": {
          "base_uri": "https://localhost:8080/",
          "height": 282
        },
        "id": "AmBFErtiCOL8",
        "outputId": "5291439f-55e6-4963-bc4a-550bfd54ad29"
      },
      "source": [
        "plt.scatter(X_[:, 0], X_[:, 1])\r\n",
        "plt.xlim(-5, 5)\r\n",
        "plt.ylim(-5, 5)"
      ],
      "execution_count": null,
      "outputs": [
        {
          "output_type": "execute_result",
          "data": {
            "text/plain": [
              "(-5.0, 5.0)"
            ]
          },
          "metadata": {
            "tags": []
          },
          "execution_count": 41
        },
        {
          "output_type": "display_data",
          "data": {
            "image/png": "[encoded data removed]",
            "text/plain": [
              "<Figure size 432x288 with 1 Axes>"
            ]
          },
          "metadata": {
            "tags": [],
            "needs_background": "light"
          }
        }
      ]
    },
    {
      "cell_type": "code",
      "metadata": {
        "colab": {
          "base_uri": "https://localhost:8080/"
        },
        "id": "8L7C8-4aCeXn",
        "outputId": "0bddc595-08bc-4437-e0ca-887da5477a06"
      },
      "source": [
        "from sklearn.decomposition import PCA\r\n",
        "pca = PCA(n_components=2)\r\n",
        "pca.fit(X)"
      ],
      "execution_count": null,
      "outputs": [
        {
          "output_type": "execute_result",
          "data": {
            "text/plain": [
              "PCA(copy=True, iterated_power='auto', n_components=2, random_state=None,\n",
              "    svd_solver='auto', tol=0.0, whiten=False)"
            ]
          },
          "metadata": {
            "tags": []
          },
          "execution_count": 42
        }
      ]
    },
    {
      "cell_type": "code",
      "metadata": {
        "colab": {
          "base_uri": "https://localhost:8080/"
        },
        "id": "lT94G1-3C2eZ",
        "outputId": "83773449-eb6a-442c-becf-c1a08e216d1a"
      },
      "source": [
        "print('components: {}'.format(pca.components_))\r\n",
        "print('mean: {}'.format(pca.mean_))\r\n",
        "print('covariance: {}'.format(pca.get_covariance()))"
      ],
      "execution_count": null,
      "outputs": [
        {
          "output_type": "stream",
          "text": [
            "components: [[ 0.86725048  0.49787208]\n",
            " [-0.49787208  0.86725048]]\n",
            "mean: [0.17157728 0.10762616]\n",
            "covariance: [[1.85813735 0.65383453]\n",
            " [0.65383453 1.09456768]]\n"
          ],
          "name": "stdout"
        }
      ]
    },
    {
      "cell_type": "code",
      "metadata": {
        "colab": {
          "base_uri": "https://localhost:8080/",
          "height": 265
        },
        "id": "YFiA4Od_DUn4",
        "outputId": "de4ea572-94d9-42b6-997e-0d502dceae97"
      },
      "source": [
        "plt_result(X, pca.components_[0, :], pca.components_[1, :])"
      ],
      "execution_count": null,
      "outputs": [
        {
          "output_type": "display_data",
          "data": {
            "image/png": "[encoded data removed]",
            "text/plain": [
              "<Figure size 432x288 with 1 Axes>"
            ]
          },
          "metadata": {
            "tags": [],
            "needs_background": "light"
          }
        }
      ]
    },
    {
      "cell_type": "code",
      "metadata": {
        "colab": {
          "base_uri": "https://localhost:8080/",
          "height": 352
        },
        "id": "-CFswFHUDkkT",
        "outputId": "21c12b1a-7316-496f-b29f-69378cacfcb1"
      },
      "source": [
        "from sklearn.decomposition import PCA\r\n",
        "pca = PCA(n_components=2)\r\n",
        "pca.fit(X)\r\n",
        "plt_result(X, pca.components_[0, :], pca.components_[1, :])\r\n",
        "print('components: {}'.format(pca.components_))\r\n",
        "print('mean: {}'.format(pca.mean_))\r\n",
        "print('covariance: {}'.format(pca.get_covariance()))"
      ],
      "execution_count": null,
      "outputs": [
        {
          "output_type": "stream",
          "text": [
            "components: [[ 0.86725048  0.49787208]\n",
            " [-0.49787208  0.86725048]]\n",
            "mean: [0.17157728 0.10762616]\n",
            "covariance: [[1.85813735 0.65383453]\n",
            " [0.65383453 1.09456768]]\n"
          ],
          "name": "stdout"
        },
        {
          "output_type": "display_data",
          "data": {
            "image/png": "[encoded data removed]",
            "text/plain": [
              "<Figure size 432x288 with 1 Axes>"
            ]
          },
          "metadata": {
            "tags": [],
            "needs_background": "light"
          }
        }
      ]
    },
    {
      "cell_type": "markdown",
      "metadata": {
        "id": "RRD4k-keEl41"
      },
      "source": [
        ""
      ]
    },
    {
      "cell_type": "markdown",
      "metadata": {
        "id": "pEzxEUpAJYNq"
      },
      "source": [
        "###演習問題\r\n",
        "主成分分析とは、（次元削減）を行うための手法。主成分分析は（対共分散行列）の（固有ベクトル）を基に新たな座標軸を複数作成し、新たな座標軸から構成される低次元空間へデータを写像する。このとき、（固有値）の大きい固有ベクトルのほうから第一主成分となる。また、各主成分の固有値を固有値の総和で割った値が（寄与率）と呼ぶ。寄与率は各主成分がどの程度、元のデータを説明できるかを表す指標になる。"
      ]
    },
    {
      "cell_type": "markdown",
      "metadata": {
        "id": "hefrjKv2RISd"
      },
      "source": [
        "---"
      ]
    },
    {
      "cell_type": "markdown",
      "metadata": {
        "id": "nnPvO_iQRLfB"
      },
      "source": [
        "##アルゴリズム"
      ]
    },
    {
      "cell_type": "markdown",
      "metadata": {
        "id": "7GVWsSWvRW6h"
      },
      "source": [
        "機械学習のアルゴリズムにk近傍法(KNN)やｋ-平均法（k-meas)などがある。\r\n",
        "\r\n",
        "データ間の類似性を計算し、データのクラスタ（グループ）に分けることを行います。\r\n",
        "\r\n",
        "・k近傍法の手順\r\n",
        "\r\n",
        "kの値と距離指標を選択する。 \r\n",
        "\r\n",
        "分類したいサンプルからｋ個の最近傍のデータ点を見つけ出す。\r\n",
        "\r\n",
        "多数決によりクラスラベルを割り当てる。\r\n",
        "\r\n",
        "\r\n",
        "・k-means法の手順\r\n",
        "\r\n",
        "データの集まりにランダムにラベルを割り当てる。\r\n",
        "\r\n",
        "ラベルと各データの平均が小さくなるようにラベルを移動し更新させる。"
      ]
    },
    {
      "cell_type": "markdown",
      "metadata": {
        "id": "MLTK-GG_ZpR2"
      },
      "source": [
        "###numpyでKNN実装"
      ]
    },
    {
      "cell_type": "code",
      "metadata": {
        "id": "vYK10QJQRKaN"
      },
      "source": [
        "#KNN\r\n",
        "%matplotlib inline\r\n",
        "import numpy as np\r\n",
        "import matplotlib.pyplot as plt\r\n",
        "from scipy import stats"
      ],
      "execution_count": null,
      "outputs": []
    },
    {
      "cell_type": "code",
      "metadata": {
        "id": "k_KOSboiaKKc"
      },
      "source": [
        "#訓練データ生成\r\n",
        "def gen_data():\r\n",
        "    x0 = np.random.normal(size=50).reshape(-1, 2) - 1.\r\n",
        "    x1 = np.random.normal(size=50).reshape(-1, 2) + 1.\r\n",
        "    x_train = np.concatenate([x0, x1])\r\n",
        "    y_train = np.concatenate([np.zeros(25), np.ones(25)]).astype(np.int)\r\n",
        "    return x_train, y_train\r\n",
        "\r\n"
      ],
      "execution_count": null,
      "outputs": []
    },
    {
      "cell_type": "code",
      "metadata": {
        "colab": {
          "base_uri": "https://localhost:8080/",
          "height": 282
        },
        "id": "HxUk9fXtbJeM",
        "outputId": "60cf74da-d58a-4afc-be2d-310ffe876e85"
      },
      "source": [
        "X_train, ys_train = gen_data()\r\n",
        "plt.scatter(X_train[:, 0], X_train[:, 1], c=ys_train)"
      ],
      "execution_count": null,
      "outputs": [
        {
          "output_type": "execute_result",
          "data": {
            "text/plain": [
              "<matplotlib.collections.PathCollection at 0x7f097fa45410>"
            ]
          },
          "metadata": {
            "tags": []
          },
          "execution_count": 116
        },
        {
          "output_type": "display_data",
          "data": {
            "image/png": "[encoded data removed]",
            "text/plain": [
              "<Figure size 432x288 with 1 Axes>"
            ]
          },
          "metadata": {
            "tags": [],
            "needs_background": "light"
          }
        }
      ]
    },
    {
      "cell_type": "code",
      "metadata": {
        "id": "7I2PJKEGbb_L"
      },
      "source": [
        "#予測\r\n",
        "def distance(x1, x2):\r\n",
        "    return np.sum((x1 - x2)**2, axis=1)\r\n",
        "\r\n",
        "def knc_predict(n_neighbors, x_train, y_train, X_test):\r\n",
        "    y_pred = np.empty(len(X_test), dtype=y_train.dtype)\r\n",
        "    for i, x in enumerate(X_test):\r\n",
        "        distances = distance(x, X_train) \r\n",
        "        nearest_index = distances.argsort()[:n_neighbors]\r\n",
        "        mode, _ = stats.mode(y_train[nearest_index])\r\n",
        "        y_pred[i] = mode\r\n",
        "    return y_pred\r\n",
        "\r\n",
        "def plt_resut(x_train, y_train, y_pred):\r\n",
        "    xx0, xx1 = np.meshgrid(np.linspace(-5, 5, 100), np.linspace(-5, 5, 100))\r\n",
        "    xx = np.array([xx0, xx1]).reshape(2, -1).T\r\n",
        "    plt.scatter(x_train[:, 0], x_train[:, 1], c=y_train)\r\n",
        "    plt.contourf(xx0, xx1, y_pred.reshape(100, 100).astype(dtype=np.float), alpha=0.2, levels=np.linspace(0, 1, 3))           "
      ],
      "execution_count": null,
      "outputs": []
    },
    {
      "cell_type": "code",
      "metadata": {
        "colab": {
          "base_uri": "https://localhost:8080/",
          "height": 265
        },
        "id": "kwh88XXfeUhI",
        "outputId": "20f219a6-a3b5-41b2-d4eb-6a7e4ac7e393"
      },
      "source": [
        "n_neighbors = 3\r\n",
        "\r\n",
        "xx0, xx1 = np.meshgrid(np.linspace(-5, 5, 100), np.linspace(-5, 5, 100))\r\n",
        "X_test = np.array([xx0, xx1]).reshape(2, -1).T\r\n",
        "\r\n",
        "y_pred = knc_predict(n_neighbors, X_train, ys_train, X_test)\r\n",
        "plt_resut(X_train, ys_train, y_pred)"
      ],
      "execution_count": null,
      "outputs": [
        {
          "output_type": "display_data",
          "data": {
            "image/png": "[encoded data removed]",
            "text/plain": [
              "<Figure size 432x288 with 1 Axes>"
            ]
          },
          "metadata": {
            "tags": [],
            "needs_background": "light"
          }
        }
      ]
    },
    {
      "cell_type": "code",
      "metadata": {
        "id": "TH0JzHaGfHl8"
      },
      "source": [
        "#numpy実装\r\n",
        "xx0, xx1 = np.meshgrid(np.linspace(-5, 5, 100), np.linspace(-5, 5, 100))\r\n",
        "xx = np.array([xx0, xx1]).reshape(2, -1).T"
      ],
      "execution_count": null,
      "outputs": []
    },
    {
      "cell_type": "code",
      "metadata": {
        "colab": {
          "base_uri": "https://localhost:8080/",
          "height": 265
        },
        "id": "uvRPuSlbgbOE",
        "outputId": "e25b27b9-7a48-40eb-e14b-d18d57f35a4a"
      },
      "source": [
        "from sklearn.neighbors import KNeighborsClassifier\r\n",
        "knc = KNeighborsClassifier(n_neighbors).fit(X_train, ys_train)\r\n",
        "plt_resut(X_train, ys_train, knc.predict(xx))"
      ],
      "execution_count": null,
      "outputs": [
        {
          "output_type": "display_data",
          "data": {
            "image/png": "[encoded data removed]",
            "text/plain": [
              "<Figure size 432x288 with 1 Axes>"
            ]
          },
          "metadata": {
            "tags": [],
            "needs_background": "light"
          }
        }
      ]
    },
    {
      "cell_type": "markdown",
      "metadata": {
        "id": "0_EbHNZNhgrY"
      },
      "source": [
        "###numpyでk-means実装"
      ]
    },
    {
      "cell_type": "code",
      "metadata": {
        "id": "2YUIvLr9hJNx"
      },
      "source": [
        "%matplotlib inline\r\n",
        "import numpy as np\r\n",
        "import matplotlib.pyplot as plt"
      ],
      "execution_count": null,
      "outputs": []
    },
    {
      "cell_type": "code",
      "metadata": {
        "id": "1jY97m6UiC0C"
      },
      "source": [
        "#データ生成\r\n",
        "def gen_data():\r\n",
        "    x1 = np.random.normal(size=(100, 2)) + np.array([-5, -5])\r\n",
        "    x2 = np.random.normal(size=(100, 2)) + np.array([5, -5])\r\n",
        "    x3 = np.random.normal(size=(100, 2)) + np.array([0, 5])\r\n",
        "    return np.vstack((x1, x2, x3))"
      ],
      "execution_count": null,
      "outputs": []
    },
    {
      "cell_type": "code",
      "metadata": {
        "colab": {
          "base_uri": "https://localhost:8080/",
          "height": 282
        },
        "id": "bLgtN3uNi9Gl",
        "outputId": "6f308d0e-e11a-4884-9b62-946b21885e48"
      },
      "source": [
        "#データ作成\r\n",
        "X_train = gen_data()\r\n",
        "#データ描画\r\n",
        "plt.scatter(X_train[:, 0], X_train[:, 1])"
      ],
      "execution_count": null,
      "outputs": [
        {
          "output_type": "execute_result",
          "data": {
            "text/plain": [
              "<matplotlib.collections.PathCollection at 0x7f097f8b2d50>"
            ]
          },
          "metadata": {
            "tags": []
          },
          "execution_count": 123
        },
        {
          "output_type": "display_data",
          "data": {
            "image/png": "[encoded data removed]",
            "text/plain": [
              "<Figure size 432x288 with 1 Axes>"
            ]
          },
          "metadata": {
            "tags": [],
            "needs_background": "light"
          }
        }
      ]
    },
    {
      "cell_type": "code",
      "metadata": {
        "id": "zDKXWUVsjaNE"
      },
      "source": [
        "def distance(x1, x2):\r\n",
        "    return np.sum((x1 - x2)**2, axis=1)\r\n",
        "\r\n",
        "n_clusters = 3\r\n",
        "iter_max =100\r\n",
        "\r\n",
        "#各クラスタの中心をランダム初期化\r\n",
        "centers = X_train[np.random.choice(len(X_train), n_clusters, replace=False)]\r\n",
        "\r\n",
        "for _ in range(iter_max):\r\n",
        "    prev_centers = np.copy(centers)\r\n",
        "    D = np.zeros((len(X_train), n_clusters))\r\n",
        "    #各データ点に対して、各クラスタの中心との距離を計算\r\n",
        "    for i, x in enumerate(X_train):\r\n",
        "        D[i] = distance(x, centers)\r\n",
        "    #各データ点に最も距離が近いクラスタを割り当てる\r\n",
        "    cluster_index = np.argmin(D, axis=1)\r\n",
        "    #各クラスタの中心を計算\r\n",
        "    for k in range(n_clusters):\r\n",
        "        index_k = cluster_index == k\r\n",
        "        centers[k] = np.mean(X_train[index_k], axis=0)\r\n",
        "    #収束判定\r\n",
        "    if np.allclose(prev_centers, centers):\r\n",
        "        break        \r\n",
        "    "
      ],
      "execution_count": null,
      "outputs": []
    },
    {
      "cell_type": "code",
      "metadata": {
        "id": "wmJYH3Hsm2qn"
      },
      "source": [
        "#クラスタリングの結果\r\n",
        "def plt_result(X_train, centers, xx):\r\n",
        "    #データを可視化\r\n",
        "    plt.scatter(X_train[:, 0], X_train[:, 1], c=y_pred, cmap='spring')\r\n",
        "    #中心を可視化\r\n",
        "    plt.scatter(X_train[:, 0], X_train[:, 1], s=200, marker='*', lw=2, c='red', edgecolor='white')\r\n",
        "    #領域の可視化\r\n",
        "    pred = np.empty(len(xx), dtype=int)\r\n",
        "    for i, x in enumerate(xx):\r\n",
        "        d = distance(x, centers)\r\n",
        "        pred[i] = np.argmin(d)\r\n",
        "    plt.contourf(xx0, xx1, pred.reshape(100, 100), alpha=0.2, cmap='spring')    "
      ],
      "execution_count": null,
      "outputs": []
    },
    {
      "cell_type": "code",
      "metadata": {
        "id": "YGEaodJOrwKd"
      },
      "source": [
        "y_pred = np.empty(len(X_train), dtype=int)\r\n",
        "for i, x in enumerate(x_train):\r\n",
        "    d = distance(x, centers)\r\n",
        "    y_pred[i] = np.argmin(d)"
      ],
      "execution_count": null,
      "outputs": []
    },
    {
      "cell_type": "code",
      "metadata": {
        "colab": {
          "base_uri": "https://localhost:8080/",
          "height": 269
        },
        "id": "xQfSZ1j8pg1O",
        "outputId": "baed7eca-144f-4fb5-8049-687eb6db4769"
      },
      "source": [
        "xx0, xx1 = np.meshgrid(np.linspace(-10, 10, 100), np.linspace(-10, 10, 100))\r\n",
        "xx = np.array([xx0, xx1]).reshape(2, -1).T\r\n",
        "\r\n",
        "plt_result(X_train, centers, xx)"
      ],
      "execution_count": null,
      "outputs": [
        {
          "output_type": "display_data",
          "data": {
            "image/png": "[encoded data removed]",
            "text/plain": [
              "<Figure size 432x288 with 1 Axes>"
            ]
          },
          "metadata": {
            "tags": [],
            "needs_background": "light"
          }
        }
      ]
    },
    {
      "cell_type": "markdown",
      "metadata": {
        "id": "WII51JsN1PqR"
      },
      "source": [
        "###演習問題\r\n",
        "教師なし学習とは、教師データを用いずに入力データ間の距離や類似度、統計的な性質に基づいてデータの構造を獲得するアルゴリズムを指す。教師なし学習の代表的なタスクとして、入力データの類似度を基にグループ分けを行う（クラスタリング）がある。クラスタリングの代表的な手法としてグループを代表とするベクトルとの類似度に基づくグループ割当てと、新たに割り当てられたグループに属するデータから代表ベクトルの更新を繰り返す（k-means）がある。"
      ]
    },
    {
      "cell_type": "markdown",
      "metadata": {
        "id": "4807REvH5Iei"
      },
      "source": [
        "---"
      ]
    },
    {
      "cell_type": "markdown",
      "metadata": {
        "id": "-Zzcsceb5ZHq"
      },
      "source": [
        "##サポートベクターマシーン"
      ]
    },
    {
      "cell_type": "markdown",
      "metadata": {
        "id": "NQkslEcH6G_2"
      },
      "source": [
        "サポートベクタマシーンSVMは分類や回帰に使用できるアルゴリズム。外れ値の検出にも使える。直線の決定境界線を空間に引く際、その境界線と最も近い各クラスのデータ間の距離が最大になるように行う。\r\n",
        "\r\n",
        "超平面に引く分類直線の式\r\n",
        "\r\n",
        "$$  y = w_0 + \\sum_{i=1}^n w_ix_1 = w_0 + w^T x $$\r\n",
        "\r\n"
      ]
    },
    {
      "cell_type": "markdown",
      "metadata": {
        "id": "v5jbIz-v-WAm"
      },
      "source": [
        ""
      ]
    },
    {
      "cell_type": "markdown",
      "metadata": {
        "id": "gYPefqJs-1Fl"
      },
      "source": [
        "###numpyでsvm実装"
      ]
    },
    {
      "cell_type": "code",
      "metadata": {
        "id": "3Zkic85kqAno"
      },
      "source": [
        "%matplotlib inline\r\n",
        "import numpy as np\r\n",
        "import matplotlib.pyplot as plt"
      ],
      "execution_count": null,
      "outputs": []
    },
    {
      "cell_type": "code",
      "metadata": {
        "id": "_7CUBaoW_OfC"
      },
      "source": [
        "#訓練データ生成\r\n",
        "def gen_data():\r\n",
        "    x0 = np.random.normal(size=50).reshape(-1, 2) - 2.\r\n",
        "    x1 = np.random.normal(size=50).reshape(-1, 2) + 2.\r\n",
        "    X_train = np.concatenate([x0, x1])\r\n",
        "    ys_train = np.concatenate([np.zeros(25), np.ones(25)]).astype(np.int)\r\n",
        "    return X_train, ys_train"
      ],
      "execution_count": null,
      "outputs": []
    },
    {
      "cell_type": "code",
      "metadata": {
        "colab": {
          "base_uri": "https://localhost:8080/",
          "height": 282
        },
        "id": "YwutXzh_AsvT",
        "outputId": "749e2600-e8d3-4aba-ba88-8cc71c1abfb3"
      },
      "source": [
        "X_train, ys_train = gen_data()\r\n",
        "plt.scatter(X_train[:, 0], X_train[:, 1], c=ys_train)"
      ],
      "execution_count": null,
      "outputs": [
        {
          "output_type": "execute_result",
          "data": {
            "text/plain": [
              "<matplotlib.collections.PathCollection at 0x7f097f71bbd0>"
            ]
          },
          "metadata": {
            "tags": []
          },
          "execution_count": 129
        },
        {
          "output_type": "display_data",
          "data": {
            "image/png": "[encoded data removed]",
            "text/plain": [
              "<Figure size 432x288 with 1 Axes>"
            ]
          },
          "metadata": {
            "tags": [],
            "needs_background": "light"
          }
        }
      ]
    },
    {
      "cell_type": "code",
      "metadata": {
        "id": "0lgvg4bZA_wo"
      },
      "source": [
        "#学習\r\n",
        "t = np.where(ys_train == 1.0, 1.0, -1.0)\r\n",
        "\r\n",
        "n_samples = len(X_train)\r\n",
        "#線形カーネル\r\n",
        "K = X_train.dot(X_train.T)\r\n",
        "\r\n",
        "eta1 = 0.01\r\n",
        "eta2 = 0.001\r\n",
        "n_iter = 500\r\n",
        "\r\n",
        "H = np.outer(t, t) * K\r\n",
        "\r\n",
        "a = np.ones(n_samples)\r\n",
        "for _ in range(n_iter):\r\n",
        "    grad = 1 - H.dot(a)\r\n",
        "    a += eta1 * grad\r\n",
        "    a -= eta2 * a.dot(t) * t\r\n",
        "    a = np.where(a > 0, a, 0)\r\n"
      ],
      "execution_count": null,
      "outputs": []
    },
    {
      "cell_type": "code",
      "metadata": {
        "id": "ZD1A1tuECT7c"
      },
      "source": [
        "#予測\r\n",
        "index =a > 1e-6\r\n",
        "support_vectors = X_train[index]\r\n",
        "support_vector_t = t[index]\r\n",
        "support_vector_a = a[index]\r\n",
        "\r\n",
        "term2 = K[index][:, index].dot(support_vector_a * support_vector_t)\r\n",
        "b = (support_vector_t - term2).mean()"
      ],
      "execution_count": null,
      "outputs": []
    },
    {
      "cell_type": "code",
      "metadata": {
        "id": "BN_ennVyDmPd"
      },
      "source": [
        "xx0, xx1 = np.meshgrid(np.linspace(-5, 5, 100), np.linspace(-5, 5, 100))\r\n",
        "xx = np.array([xx0, xx1]).reshape(2, -1).T\r\n",
        "\r\n",
        "X_test = xx\r\n",
        "y_project = np.ones(len(X_test)) * b\r\n",
        "for i in range(len(X_test)):\r\n",
        "    for a, sv_t, sv in zip(support_vector_a, support_vector_t, support_vectors):\r\n",
        "        y_project[i] += a * sv_t * sv.dot(X_test[i])\r\n",
        "y_pred = np.sign(y_project)        "
      ],
      "execution_count": null,
      "outputs": []
    },
    {
      "cell_type": "code",
      "metadata": {
        "colab": {
          "base_uri": "https://localhost:8080/",
          "height": 282
        },
        "id": "xVOTiV7VFLVd",
        "outputId": "895a94c8-87a9-42ac-d70d-e1f2b72788f3"
      },
      "source": [
        "#訓練データを可視化\r\n",
        "plt.scatter(X_train[:, 0], X_train[:, 1], c=ys_train)\r\n",
        "#サポートベクトルを可視化           \r\n",
        "plt.scatter(support_vectors[:, 0],support_vectors[:, 1],\r\n",
        "            s=100, facecolors='none', edgecolor='k')\r\n",
        "#領域を可視化\r\n",
        "#plt.contourf(xx0, xx1, y_pred.reshape(100, 100), alpha=0.2, levels=np.linspace(0, 1, 3))\r\n",
        "#マージンと決定境界を可視化\r\n",
        "plt.contour(xx0, xx1, y_project.reshape(100, 100), colors='k',\r\n",
        "            levels=[-1, 0, 1], alpha=0.5, linestyles=['--', '-', '--'])\r\n",
        "plt.quiver(0, 0, 0.1, 0.35, width=0.01, scale=1, color='pink')"
      ],
      "execution_count": null,
      "outputs": [
        {
          "output_type": "execute_result",
          "data": {
            "text/plain": [
              "<matplotlib.quiver.Quiver at 0x7f09806d4650>"
            ]
          },
          "metadata": {
            "tags": []
          },
          "execution_count": 140
        },
        {
          "output_type": "display_data",
          "data": {
            "image/png": "[encoded data removed]",
            "text/plain": [
              "<Figure size 432x288 with 1 Axes>"
            ]
          },
          "metadata": {
            "tags": [],
            "needs_background": "light"
          }
        }
      ]
    },
    {
      "cell_type": "markdown",
      "metadata": {
        "id": "XuMfjiYPQNtz"
      },
      "source": [
        "###参考図書から\r\n",
        "\r\n",
        "分離不可能な場合\r\n",
        "\r\n",
        "サポートベクタマシンでは超平面により分割の手法を学んできたが、実際問題、データ同士が重なり合ってしまい、完全に分離は不可能である。そのためにある程度の誤分類は許容しなければならない。と参考図書には記されている。しかし、線形回帰直線を学んだ後に、非線形回帰と直線を学んだのだから、サポートベクタマシンでも曲線のようなもので分類するようなものがあるのではないかと誰もが考えるだろう。それと、カーネル法という次元空間の分離を用いれば例え2次元上では入り組んだデータでも、分離できる確率も増える。"
      ]
    },
    {
      "cell_type": "code",
      "metadata": {
        "id": "QLyXlD2VGrxv"
      },
      "source": [
        ""
      ],
      "execution_count": null,
      "outputs": []
    }
  ]
}